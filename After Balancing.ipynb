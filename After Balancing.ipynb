{
 "cells": [
  {
   "cell_type": "code",
   "execution_count": 38,
   "id": "2503db30",
   "metadata": {
    "scrolled": true
   },
   "outputs": [
    {
     "data": {
      "text/html": [
       "<div>\n",
       "<style scoped>\n",
       "    .dataframe tbody tr th:only-of-type {\n",
       "        vertical-align: middle;\n",
       "    }\n",
       "\n",
       "    .dataframe tbody tr th {\n",
       "        vertical-align: top;\n",
       "    }\n",
       "\n",
       "    .dataframe thead th {\n",
       "        text-align: right;\n",
       "    }\n",
       "</style>\n",
       "<table border=\"1\" class=\"dataframe\">\n",
       "  <thead>\n",
       "    <tr style=\"text-align: right;\">\n",
       "      <th></th>\n",
       "      <th>ph</th>\n",
       "      <th>Hardness</th>\n",
       "      <th>Solids</th>\n",
       "      <th>Chloramines</th>\n",
       "      <th>Sulfate</th>\n",
       "      <th>Conductivity</th>\n",
       "      <th>Organic_carbon</th>\n",
       "      <th>Trihalomethanes</th>\n",
       "      <th>Turbidity</th>\n",
       "    </tr>\n",
       "  </thead>\n",
       "  <tbody>\n",
       "    <tr>\n",
       "      <th>0</th>\n",
       "      <td>7.080795</td>\n",
       "      <td>204.890455</td>\n",
       "      <td>20791.318981</td>\n",
       "      <td>7.300212</td>\n",
       "      <td>368.516441</td>\n",
       "      <td>564.308654</td>\n",
       "      <td>10.379783</td>\n",
       "      <td>86.990970</td>\n",
       "      <td>2.963135</td>\n",
       "    </tr>\n",
       "    <tr>\n",
       "      <th>1</th>\n",
       "      <td>3.716080</td>\n",
       "      <td>129.422921</td>\n",
       "      <td>18630.057858</td>\n",
       "      <td>6.635246</td>\n",
       "      <td>333.775777</td>\n",
       "      <td>592.885359</td>\n",
       "      <td>15.180013</td>\n",
       "      <td>56.329076</td>\n",
       "      <td>4.500656</td>\n",
       "    </tr>\n",
       "    <tr>\n",
       "      <th>2</th>\n",
       "      <td>8.099124</td>\n",
       "      <td>224.236259</td>\n",
       "      <td>19909.541732</td>\n",
       "      <td>9.275884</td>\n",
       "      <td>333.775777</td>\n",
       "      <td>418.606213</td>\n",
       "      <td>16.868637</td>\n",
       "      <td>66.420093</td>\n",
       "      <td>3.055934</td>\n",
       "    </tr>\n",
       "    <tr>\n",
       "      <th>3</th>\n",
       "      <td>8.316766</td>\n",
       "      <td>214.373394</td>\n",
       "      <td>22018.417441</td>\n",
       "      <td>8.059332</td>\n",
       "      <td>356.886136</td>\n",
       "      <td>363.266516</td>\n",
       "      <td>18.436524</td>\n",
       "      <td>100.341674</td>\n",
       "      <td>4.628771</td>\n",
       "    </tr>\n",
       "    <tr>\n",
       "      <th>4</th>\n",
       "      <td>9.092223</td>\n",
       "      <td>181.101509</td>\n",
       "      <td>17978.986339</td>\n",
       "      <td>6.546600</td>\n",
       "      <td>310.135738</td>\n",
       "      <td>398.410813</td>\n",
       "      <td>11.558279</td>\n",
       "      <td>31.997993</td>\n",
       "      <td>4.075075</td>\n",
       "    </tr>\n",
       "  </tbody>\n",
       "</table>\n",
       "</div>"
      ],
      "text/plain": [
       "         ph    Hardness        Solids  Chloramines     Sulfate  Conductivity  \\\n",
       "0  7.080795  204.890455  20791.318981     7.300212  368.516441    564.308654   \n",
       "1  3.716080  129.422921  18630.057858     6.635246  333.775777    592.885359   \n",
       "2  8.099124  224.236259  19909.541732     9.275884  333.775777    418.606213   \n",
       "3  8.316766  214.373394  22018.417441     8.059332  356.886136    363.266516   \n",
       "4  9.092223  181.101509  17978.986339     6.546600  310.135738    398.410813   \n",
       "\n",
       "   Organic_carbon  Trihalomethanes  Turbidity  \n",
       "0       10.379783        86.990970   2.963135  \n",
       "1       15.180013        56.329076   4.500656  \n",
       "2       16.868637        66.420093   3.055934  \n",
       "3       18.436524       100.341674   4.628771  \n",
       "4       11.558279        31.997993   4.075075  "
      ]
     },
     "execution_count": 38,
     "metadata": {},
     "output_type": "execute_result"
    }
   ],
   "source": [
    "import pandas as pd\n",
    "import numpy as np\n",
    "X=pd.read_csv('Data.csv')\n",
    "Y=pd.read_csv('Class.csv')\n",
    "X.head()"
   ]
  },
  {
   "cell_type": "code",
   "execution_count": 39,
   "id": "65523341",
   "metadata": {},
   "outputs": [],
   "source": [
    "X=X[['ph','Hardness','Solids','Chloramines','Sulfate','Conductivity','Organic_carbon','Trihalomethanes','Turbidity']]\n",
    "Y=Y['Potability']\n"
   ]
  },
  {
   "cell_type": "code",
   "execution_count": 40,
   "id": "b406e6b4",
   "metadata": {},
   "outputs": [],
   "source": [
    "#pip install tensorflow"
   ]
  },
  {
   "cell_type": "code",
   "execution_count": 41,
   "id": "b78cbeb6",
   "metadata": {},
   "outputs": [],
   "source": [
    "from sklearn.exceptions import ConvergenceWarning\n",
    "\n",
    "from warnings import simplefilter\n",
    "\n",
    "simplefilter(action='ignore', category=ConvergenceWarning)"
   ]
  },
  {
   "cell_type": "code",
   "execution_count": 42,
   "id": "409bb867",
   "metadata": {},
   "outputs": [],
   "source": [
    "from pandas.plotting import scatter_matrix\n",
    "from matplotlib import pyplot as plt\n",
    "\n",
    "import tensorflow as tf\n",
    "from tensorflow import keras\n",
    "from keras.models import Sequential\n",
    "from keras.layers import Dense\n",
    "\n",
    "from sklearn.model_selection import train_test_split\n",
    "from sklearn.model_selection import KFold\n",
    "from sklearn.model_selection import cross_val_score\n",
    "from sklearn.model_selection import cross_val_predict\n",
    "\n",
    "\n",
    "from sklearn.preprocessing import MinMaxScaler\n",
    "\n",
    "from sklearn.metrics import classification_report\n",
    "from sklearn.metrics import accuracy_score\n",
    "from sklearn.metrics import precision_score\n",
    "from sklearn.metrics import recall_score\n",
    "from sklearn.metrics import f1_score\n",
    "from sklearn.metrics import confusion_matrix\n",
    "\n",
    "from sklearn.svm import SVC\n",
    "\n",
    "from sklearn.ensemble import RandomForestClassifier\n",
    "from sklearn.neural_network import MLPClassifier\n",
    "from sklearn.tree import DecisionTreeClassifier\n",
    "from sklearn.naive_bayes import MultinomialNB"
   ]
  },
  {
   "cell_type": "markdown",
   "id": "fb513f00",
   "metadata": {},
   "source": [
    "<h2>Standardization</h2>"
   ]
  },
  {
   "cell_type": "code",
   "execution_count": 43,
   "id": "d8e4437f",
   "metadata": {},
   "outputs": [],
   "source": [
    "#from sklearn.preprocessing import StandardScaler\n",
    "#scaler=StandardScaler()\n",
    "\n",
    "#fit only on training data\n",
    "#scaler.fit(X_train)\n",
    "#X_train=scaler.fit_transform(X_train)\n",
    "\n",
    "#apply same transformation to test data\n",
    "#X_test=sc_X.transform(X_test)\n",
    "\n",
    "#result will be from 0 to 1 or from -1 to +1\n",
    "#X_train\n"
   ]
  },
  {
   "cell_type": "markdown",
   "id": "f8b7ce07",
   "metadata": {},
   "source": [
    "<h2>Normalization</h2>"
   ]
  },
  {
   "cell_type": "code",
   "execution_count": 44,
   "id": "209d4afd",
   "metadata": {},
   "outputs": [
    {
     "data": {
      "text/plain": [
       "619     0\n",
       "1197    1\n",
       "801     1\n",
       "3915    1\n",
       "739     1\n",
       "       ..\n",
       "1603    1\n",
       "2550    0\n",
       "537     0\n",
       "1220    1\n",
       "175     0\n",
       "Name: Potability, Length: 3196, dtype: int64"
      ]
     },
     "execution_count": 44,
     "metadata": {},
     "output_type": "execute_result"
    }
   ],
   "source": [
    "X_train, X_test, y_train, y_test = train_test_split(X, Y,test_size=0.2, random_state=7)\n",
    "\n",
    "from sklearn.preprocessing import MinMaxScaler\n",
    "sc_X=MinMaxScaler()\n",
    "X_train=sc_X.fit_transform(X_train)\n",
    "X_test=sc_X.transform(X_test)\n",
    "#X_train #result is between 0 and 1\n",
    "y_train"
   ]
  },
  {
   "cell_type": "markdown",
   "id": "abd217e0",
   "metadata": {},
   "source": [
    "# "
   ]
  },
  {
   "cell_type": "markdown",
   "id": "ec49579e",
   "metadata": {},
   "source": [
    "<h1><font size=25, face='Times New Roman'>1. Support Vector Machine</font></h1>"
   ]
  },
  {
   "cell_type": "code",
   "execution_count": 45,
   "id": "b6e419dc",
   "metadata": {},
   "outputs": [
    {
     "name": "stdout",
     "output_type": "stream",
     "text": [
      "\n",
      "****************************************************************\n",
      "\n",
      "Accuracy                     :  71.125 %\n",
      "Precision / 1-Sensitivity    :  68.8787185354691 %\n",
      "Recall / Sensitivity         :  76.01010101010101 %\n",
      "F1 Score                     :  72.26890756302521 %\n",
      "________________________________________________________________\n",
      "\n",
      "Confusion Matrix\n",
      "\n",
      " [[268 136]\n",
      " [ 95 301]]\n",
      "\n",
      "****************************************************************\n"
     ]
    }
   ],
   "source": [
    "#gamma='auto', kernel='rbf'\n",
    "svm_classifier=SVC(C=100, random_state=0)\n",
    "svm_classifier.fit(X_train,y_train)\n",
    "svm_pred=svm_classifier.predict(X_test)\n",
    "print('\\n****************************************************************\\n')\n",
    "print('Accuracy                     : ',accuracy_score(y_test,svm_pred)*100,'%')\n",
    "print('Precision / 1-Sensitivity    : ',precision_score(y_test,svm_pred)*100,'%')\n",
    "print('Recall / Sensitivity         : ',recall_score(y_test,svm_pred)*100,'%')\n",
    "print('F1 Score                     : ',f1_score(y_test,svm_pred)*100,'%')\n",
    "print('________________________________________________________________\\n')\n",
    "print('Confusion Matrix\\n')\n",
    "print('',confusion_matrix(y_test,svm_pred))\n",
    "print('\\n****************************************************************')"
   ]
  },
  {
   "cell_type": "markdown",
   "id": "c603a758",
   "metadata": {},
   "source": [
    "<font size=20, face='Times New Roman'>K-Fold-SVM</font>"
   ]
  },
  {
   "cell_type": "code",
   "execution_count": 46,
   "id": "7c98f194",
   "metadata": {},
   "outputs": [
    {
     "name": "stdout",
     "output_type": "stream",
     "text": [
      "Average :  61.00141658494061 %\n"
     ]
    }
   ],
   "source": [
    "svm_pred=cross_val_predict(svm_classifier,X_test, y_test)\n",
    "\n",
    "#change the value of cv to see the change\n",
    "scores_test=cross_val_score(svm_classifier,X_test, y_test, cv=7)\n",
    "print(\"Average : \",np.mean(scores_test)*100,'%')"
   ]
  },
  {
   "cell_type": "markdown",
   "id": "0c91c375",
   "metadata": {},
   "source": [
    "# "
   ]
  },
  {
   "cell_type": "markdown",
   "id": "317aad9d",
   "metadata": {},
   "source": [
    "<h1><font size=25, face='Times New Roman'>2. Decision Tree</font></h1>"
   ]
  },
  {
   "cell_type": "code",
   "execution_count": 47,
   "id": "fb28e1f0",
   "metadata": {},
   "outputs": [
    {
     "name": "stdout",
     "output_type": "stream",
     "text": [
      "\n",
      "****************************************************************\n",
      "\n",
      "Accuracy                     :  71.375 %\n",
      "Precision / 1-Sensitivity    :  67.88008565310493 %\n",
      "Recall / Sensitivity         :  80.05050505050505 %\n",
      "F1 Score                     :  73.46465816917728 %\n",
      "________________________________________________________________\n",
      "\n",
      "Confusion Matrix\n",
      "\n",
      " [[254 150]\n",
      " [ 79 317]]\n",
      "\n",
      "****************************************************************\n"
     ]
    }
   ],
   "source": [
    "#X_train, X_test, y_train, y_test = train_test_split(X, Y,test_size=0.2, random_state=5)\n",
    "#max_leaf_nodes=8,criterion='entropy', max_depth=10, max_features=9, min_samples_split= 2\n",
    "dt_classifier=DecisionTreeClassifier(random_state=7)\n",
    "dt_classifier.fit(X_train,y_train)\n",
    "dt_pred=dt_classifier.predict(X_test)\n",
    "print('\\n****************************************************************\\n')\n",
    "print('Accuracy                     : ',accuracy_score(y_test,dt_pred)*100,'%')\n",
    "print('Precision / 1-Sensitivity    : ',precision_score(y_test,dt_pred)*100,'%')\n",
    "print('Recall / Sensitivity         : ',recall_score(y_test,dt_pred)*100,'%')\n",
    "print('F1 Score                     : ',f1_score(y_test,dt_pred)*100,'%')\n",
    "print('________________________________________________________________\\n')\n",
    "print('Confusion Matrix\\n')\n",
    "print('',confusion_matrix(y_test,dt_pred))\n",
    "print('\\n****************************************************************')"
   ]
  },
  {
   "cell_type": "markdown",
   "id": "628f809c",
   "metadata": {},
   "source": [
    "<font size=20, face='Times New Roman'>K-Fold-DT</font>"
   ]
  },
  {
   "cell_type": "code",
   "execution_count": 48,
   "id": "fc19c124",
   "metadata": {},
   "outputs": [
    {
     "name": "stdout",
     "output_type": "stream",
     "text": [
      "Average :  60.62656641604009 %\n"
     ]
    }
   ],
   "source": [
    "\n",
    "dt_pred=cross_val_predict(dt_classifier,X_test, y_test)\n",
    "scores_test=cross_val_score(dt_classifier,X_test, y_test, cv=7)\n",
    "print(\"Average : \",np.mean(scores_test)*100,'%')"
   ]
  },
  {
   "cell_type": "markdown",
   "id": "0a217f30",
   "metadata": {},
   "source": [
    "# "
   ]
  },
  {
   "cell_type": "markdown",
   "id": "9b013035",
   "metadata": {},
   "source": [
    "<h1><font size=25, face='Times New Roman'>3. Sequential Neural Network</font></h1>"
   ]
  },
  {
   "cell_type": "code",
   "execution_count": 49,
   "id": "814cda71",
   "metadata": {
    "scrolled": false
   },
   "outputs": [
    {
     "name": "stdout",
     "output_type": "stream",
     "text": [
      "Epoch 1/30\n",
      "799/799 [==============================] - 5s 5ms/step - loss: 0.2512 - accuracy: 0.5019 - val_loss: 0.2478 - val_accuracy: 0.5663\n",
      "Epoch 2/30\n",
      "799/799 [==============================] - 3s 4ms/step - loss: 0.2476 - accuracy: 0.5382 - val_loss: 0.2411 - val_accuracy: 0.5882\n",
      "Epoch 3/30\n",
      "799/799 [==============================] - 4s 5ms/step - loss: 0.2420 - accuracy: 0.5729 - val_loss: 0.2411 - val_accuracy: 0.5313\n",
      "Epoch 4/30\n",
      "799/799 [==============================] - 3s 4ms/step - loss: 0.2386 - accuracy: 0.5860 - val_loss: 0.2321 - val_accuracy: 0.6117\n",
      "Epoch 5/30\n",
      "799/799 [==============================] - 3s 4ms/step - loss: 0.2338 - accuracy: 0.5989 - val_loss: 0.2286 - val_accuracy: 0.6123\n",
      "Epoch 6/30\n",
      "799/799 [==============================] - 4s 5ms/step - loss: 0.2299 - accuracy: 0.6123 - val_loss: 0.2218 - val_accuracy: 0.6324\n",
      "Epoch 7/30\n",
      "799/799 [==============================] - 3s 4ms/step - loss: 0.2249 - accuracy: 0.6283 - val_loss: 0.2179 - val_accuracy: 0.6439\n",
      "Epoch 8/30\n",
      "799/799 [==============================] - 3s 4ms/step - loss: 0.2236 - accuracy: 0.6195 - val_loss: 0.2198 - val_accuracy: 0.6377\n",
      "Epoch 9/30\n",
      "799/799 [==============================] - 3s 4ms/step - loss: 0.2223 - accuracy: 0.6273 - val_loss: 0.2222 - val_accuracy: 0.6273\n",
      "Epoch 10/30\n",
      "799/799 [==============================] - 3s 4ms/step - loss: 0.2209 - accuracy: 0.6267 - val_loss: 0.2261 - val_accuracy: 0.6180\n",
      "Epoch 11/30\n",
      "799/799 [==============================] - 4s 5ms/step - loss: 0.2181 - accuracy: 0.6380 - val_loss: 0.2129 - val_accuracy: 0.6533\n",
      "Epoch 12/30\n",
      "799/799 [==============================] - 3s 4ms/step - loss: 0.2191 - accuracy: 0.6399 - val_loss: 0.2190 - val_accuracy: 0.6395\n",
      "Epoch 13/30\n",
      "799/799 [==============================] - 4s 5ms/step - loss: 0.2168 - accuracy: 0.6446 - val_loss: 0.2119 - val_accuracy: 0.6489\n",
      "Epoch 14/30\n",
      "799/799 [==============================] - 3s 4ms/step - loss: 0.2165 - accuracy: 0.6446 - val_loss: 0.2144 - val_accuracy: 0.6442\n",
      "Epoch 15/30\n",
      "799/799 [==============================] - 6s 7ms/step - loss: 0.2156 - accuracy: 0.6345 - val_loss: 0.2160 - val_accuracy: 0.6402\n",
      "Epoch 16/30\n",
      "799/799 [==============================] - 6s 7ms/step - loss: 0.2158 - accuracy: 0.6339 - val_loss: 0.2128 - val_accuracy: 0.6549\n",
      "Epoch 17/30\n",
      "799/799 [==============================] - 3s 4ms/step - loss: 0.2140 - accuracy: 0.6461 - val_loss: 0.2116 - val_accuracy: 0.6392\n",
      "Epoch 18/30\n",
      "799/799 [==============================] - 3s 4ms/step - loss: 0.2129 - accuracy: 0.6461 - val_loss: 0.2171 - val_accuracy: 0.6377\n",
      "Epoch 19/30\n",
      "799/799 [==============================] - 4s 4ms/step - loss: 0.2131 - accuracy: 0.6492 - val_loss: 0.2105 - val_accuracy: 0.6568\n",
      "Epoch 20/30\n",
      "799/799 [==============================] - 3s 4ms/step - loss: 0.2121 - accuracy: 0.6561 - val_loss: 0.2139 - val_accuracy: 0.6549\n",
      "Epoch 21/30\n",
      "799/799 [==============================] - 5s 6ms/step - loss: 0.2129 - accuracy: 0.6533 - val_loss: 0.2083 - val_accuracy: 0.6568\n",
      "Epoch 22/30\n",
      "799/799 [==============================] - 3s 4ms/step - loss: 0.2104 - accuracy: 0.6502 - val_loss: 0.2100 - val_accuracy: 0.6499\n",
      "Epoch 23/30\n",
      "799/799 [==============================] - 3s 4ms/step - loss: 0.2107 - accuracy: 0.6555 - val_loss: 0.2140 - val_accuracy: 0.6564\n",
      "Epoch 24/30\n",
      "799/799 [==============================] - 4s 6ms/step - loss: 0.2119 - accuracy: 0.6508 - val_loss: 0.2051 - val_accuracy: 0.6740\n",
      "Epoch 25/30\n",
      "799/799 [==============================] - 4s 4ms/step - loss: 0.2097 - accuracy: 0.6530 - val_loss: 0.2058 - val_accuracy: 0.6649\n",
      "Epoch 26/30\n",
      "799/799 [==============================] - 3s 4ms/step - loss: 0.2089 - accuracy: 0.6564 - val_loss: 0.2018 - val_accuracy: 0.6718\n",
      "Epoch 27/30\n",
      "799/799 [==============================] - 3s 4ms/step - loss: 0.2085 - accuracy: 0.6505 - val_loss: 0.2035 - val_accuracy: 0.6693\n",
      "Epoch 28/30\n",
      "799/799 [==============================] - 3s 4ms/step - loss: 0.2073 - accuracy: 0.6636 - val_loss: 0.2015 - val_accuracy: 0.6746\n",
      "Epoch 29/30\n",
      "799/799 [==============================] - 3s 4ms/step - loss: 0.2076 - accuracy: 0.6583 - val_loss: 0.1993 - val_accuracy: 0.6821\n",
      "Epoch 30/30\n",
      "799/799 [==============================] - 3s 4ms/step - loss: 0.2070 - accuracy: 0.6596 - val_loss: 0.2008 - val_accuracy: 0.6902\n",
      "25/25 [==============================] - 0s 4ms/step - loss: 0.2153 - accuracy: 0.6637\n",
      "Loss:  0.21534490585327148\n",
      "Accuracy:  0.6637499928474426\n"
     ]
    }
   ],
   "source": [
    "mod_sq=Sequential()\n",
    "mod_sq.add(Dense(200,input_dim=9,activation='relu'))\n",
    "mod_sq.add(Dense(200,input_dim=200,activation='relu'))\n",
    "mod_sq.add(Dense(1,activation='sigmoid'))\n",
    "\n",
    "mod_sq.compile(loss='mse', optimizer='adam', metrics='accuracy')\n",
    "history=mod_sq.fit(X_train, y_train, epochs=30, batch_size=4, validation_data=(X_train, y_train), verbose=1)\n",
    "\n",
    "loss, accuracy = mod_sq.evaluate(X_test, y_test)\n",
    "print(\"Loss: \", loss)\n",
    "print(\"Accuracy: \", accuracy)"
   ]
  },
  {
   "cell_type": "code",
   "execution_count": 51,
   "id": "5fa936e1",
   "metadata": {},
   "outputs": [
    {
     "data": {
      "image/png": "[encoded data removed]",
      "text/plain": [
       "<Figure size 1000x500 with 2 Axes>"
      ]
     },
     "metadata": {},
     "output_type": "display_data"
    }
   ],
   "source": [
    "import matplotlib.pyplot as plt\n",
    "\n",
    "# Create a figure with two subplots \n",
    "fig, axs = plt.subplots(1, 2, figsize=(10, 5))\n",
    "\n",
    "# Plot the accuracy and validation accuracy curves in the first subplot\n",
    "axs[0].plot(history.history['accuracy'], label='accuracy')\n",
    "axs[0].plot(history.history['val_accuracy'], label='val_accuracy')\n",
    "axs[0].set_xlabel('Epoch')\n",
    "axs[0].set_ylabel('Value')\n",
    "axs[0].legend()\n",
    "\n",
    "# Plot the loss and validation loss curves in the second subplot\n",
    "axs[1].plot(history.history['loss'], label='loss')\n",
    "axs[1].plot(history.history['val_loss'], label='val_loss')\n",
    "axs[1].set_xlabel('Epoch')\n",
    "axs[1].set_ylabel('Value')\n",
    "axs[1].legend()\n",
    "\n",
    "fig.suptitle('LSTM Accuracy and Loss')\n",
    "\n",
    "\n",
    "# Save the figure as a PNG file\n",
    "# fig.savefig('results/LSTM_accuracy_loss_curves_8020-4.png')\n",
    "\n",
    "\n",
    "# Display the figure\n",
    "plt.show()"
   ]
  },
  {
   "cell_type": "code",
   "execution_count": 32,
   "id": "42e6e9ad",
   "metadata": {
    "scrolled": true
   },
   "outputs": [
    {
     "name": "stdout",
     "output_type": "stream",
     "text": [
      "25/25 [==============================] - 0s 1ms/step\n",
      "0.5182098\n"
     ]
    }
   ],
   "source": [
    "\n",
    "predictions=mod_sq.predict(X_test)\n",
    "sq_pred = (predictions > 0.5)\n",
    "confusion_matrix(y_test, sq_pred)\n",
    "# print('Precision       : ',precision_score(y_test, sq_pred)*100,'%')\n",
    "# print('Recall          : ',recall_score(y_test, sq_pred)*100,'%')\n",
    "# print('F1 Score        : ',f1_score(y_test, sq_pred)*100,'%')\n",
    "print(np.mean(predictions))"
   ]
  },
  {
   "cell_type": "code",
   "execution_count": 33,
   "id": "5d5ce2d1",
   "metadata": {},
   "outputs": [
    {
     "name": "stdout",
     "output_type": "stream",
     "text": [
      "Cofusion Matrix\n",
      " [[404   0]\n",
      " [396   0]]\n"
     ]
    }
   ],
   "source": [
    "cm=confusion_matrix(y_test, y_pred)\n",
    "print('Cofusion Matrix\\n',cm)"
   ]
  },
  {
   "cell_type": "markdown",
   "id": "8e27fd77",
   "metadata": {},
   "source": [
    "# "
   ]
  },
  {
   "cell_type": "markdown",
   "id": "dd8ab5a6",
   "metadata": {},
   "source": [
    "<font size=20, face='Times New Roman'>4. MLPC</font>"
   ]
  },
  {
   "cell_type": "code",
   "execution_count": 34,
   "id": "f629ba51",
   "metadata": {},
   "outputs": [
    {
     "name": "stdout",
     "output_type": "stream",
     "text": [
      "Accuracy                     :  49.375 %\n",
      "Precision / 1-Sensitivity    :  48.825065274151434 %\n",
      "Recall / Sensitivity         :  47.22222222222222 %\n",
      "F1 Score                     :  48.01026957637997 %\n",
      "________________________________________________________________\n",
      "\n",
      "Confusion Matrix\n",
      "\n",
      " [[208 196]\n",
      " [209 187]]\n",
      "\n",
      "****************************************************************\n"
     ]
    }
   ],
   "source": [
    "#NN MLPC\n",
    "mod_nn=MLPClassifier(solver='adam', alpha=1e-5,hidden_layer_sizes=(5), random_state=7)\n",
    "mod_nn.fit(X_train, y_train)\n",
    "nn_pred1=mod_nn.predict(X_test)\n",
    "print('Accuracy                     : ',accuracy_score(y_test,nn_pred1)*100,'%')\n",
    "print('Precision / 1-Sensitivity    : ',precision_score(y_test,nn_pred1)*100,'%')\n",
    "print('Recall / Sensitivity         : ',recall_score(y_test,nn_pred1)*100,'%')\n",
    "print('F1 Score                     : ',f1_score(y_test,nn_pred1)*100,'%')\n",
    "print('________________________________________________________________\\n')\n",
    "print('Confusion Matrix\\n')\n",
    "print('',confusion_matrix(y_test,nn_pred1))\n",
    "print('\\n****************************************************************')"
   ]
  },
  {
   "cell_type": "markdown",
   "id": "324d20ac",
   "metadata": {},
   "source": [
    "<font size=20, face='Times New Roman'>K-Fold-MLPC</font>"
   ]
  },
  {
   "cell_type": "code",
   "execution_count": 35,
   "id": "e1f71433",
   "metadata": {},
   "outputs": [
    {
     "name": "stdout",
     "output_type": "stream",
     "text": [
      "K-Fold Average :  51.0057753078348 %\n"
     ]
    }
   ],
   "source": [
    "nn_pred2=cross_val_predict(mod_nn,X_test,y_test)\n",
    "scores_test=cross_val_score(mod_nn,X_test, y_test, cv=7)\n",
    "print(\"K-Fold Average : \",np.mean(scores_test)*100,'%')"
   ]
  },
  {
   "cell_type": "markdown",
   "id": "8892a1dc",
   "metadata": {},
   "source": [
    "<h1><font size=25, face='Times New Roman'>5. Naive Bayes</font></h1>"
   ]
  },
  {
   "cell_type": "code",
   "execution_count": 36,
   "id": "8a1e2aef",
   "metadata": {},
   "outputs": [
    {
     "name": "stdout",
     "output_type": "stream",
     "text": [
      "\n",
      "****************************************************************\n",
      "\n",
      "Accuracy                     :  55.625 %\n",
      "Precision / 1-Sensitivity    :  55.26992287917738 %\n",
      "Recall / Sensitivity         :  54.292929292929294 %\n",
      "F1 Score                     :  54.77707006369427 %\n",
      "________________________________________________________________\n",
      "\n",
      "Confusion Matrix\n",
      "\n",
      " [[230 174]\n",
      " [181 215]]\n",
      "\n",
      "****************************************************************\n"
     ]
    }
   ],
   "source": [
    "X_train, X_test, y_train, y_test = train_test_split(X, Y,test_size=0.2, random_state=7)\n",
    "\n",
    "nb_classifier=MultinomialNB()\n",
    "nb_classifier.fit(X_train,y_train)\n",
    "nb_pred=nb_classifier.predict(X_test)\n",
    "print('\\n****************************************************************\\n')\n",
    "print('Accuracy                     : ',accuracy_score(y_test,nb_pred)*100,'%')\n",
    "print('Precision / 1-Sensitivity    : ',precision_score(y_test,nb_pred)*100,'%')\n",
    "print('Recall / Sensitivity         : ',recall_score(y_test,nb_pred)*100,'%')\n",
    "print('F1 Score                     : ',f1_score(y_test,nb_pred)*100,'%')\n",
    "print('________________________________________________________________\\n')\n",
    "print('Confusion Matrix\\n')\n",
    "print('',confusion_matrix(y_test,nb_pred))\n",
    "print('\\n****************************************************************')"
   ]
  },
  {
   "cell_type": "markdown",
   "id": "bc124ec6",
   "metadata": {},
   "source": [
    "<font size=20, face='Times New Roman'>K-Fold-NB</font>"
   ]
  },
  {
   "cell_type": "code",
   "execution_count": 37,
   "id": "d6a59a1d",
   "metadata": {},
   "outputs": [
    {
     "name": "stdout",
     "output_type": "stream",
     "text": [
      "Average :  56.125 %\n"
     ]
    }
   ],
   "source": [
    "\n",
    "nb_pred=cross_val_predict(nb_classifier,X_test, y_test)\n",
    "scores_test=cross_val_score(nb_classifier,X_test, y_test, cv=10)\n",
    "print(\"Average : \",np.mean(scores_test)*100,'%')"
   ]
  },
  {
   "cell_type": "code",
   "execution_count": null,
   "id": "39fc97cf",
   "metadata": {},
   "outputs": [],
   "source": []
  },
  {
   "cell_type": "code",
   "execution_count": null,
   "id": "9c87da3b",
   "metadata": {},
   "outputs": [],
   "source": []
  }
 ],
 "metadata": {
  "kernelspec": {
   "display_name": "Python 3 (ipykernel)",
   "language": "python",
   "name": "python3"
  },
  "language_info": {
   "codemirror_mode": {
    "name": "ipython",
    "version": 3
   },
   "file_extension": ".py",
   "mimetype": "text/x-python",
   "name": "python",
   "nbconvert_exporter": "python",
   "pygments_lexer": "ipython3",
   "version": "3.10.9"
  }
 },
 "nbformat": 4,
 "nbformat_minor": 5
}
