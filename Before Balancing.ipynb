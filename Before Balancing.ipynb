{
 "cells": [
  {
   "cell_type": "code",
   "execution_count": 22,
   "id": "2503db30",
   "metadata": {
    "scrolled": true
   },
   "outputs": [
    {
     "data": {
      "text/html": [
       "<div>\n",
       "<style scoped>\n",
       "    .dataframe tbody tr th:only-of-type {\n",
       "        vertical-align: middle;\n",
       "    }\n",
       "\n",
       "    .dataframe tbody tr th {\n",
       "        vertical-align: top;\n",
       "    }\n",
       "\n",
       "    .dataframe thead th {\n",
       "        text-align: right;\n",
       "    }\n",
       "</style>\n",
       "<table border=\"1\" class=\"dataframe\">\n",
       "  <thead>\n",
       "    <tr style=\"text-align: right;\">\n",
       "      <th></th>\n",
       "      <th>ph</th>\n",
       "      <th>Hardness</th>\n",
       "      <th>Solids</th>\n",
       "      <th>Chloramines</th>\n",
       "      <th>Sulfate</th>\n",
       "      <th>Conductivity</th>\n",
       "      <th>Organic_carbon</th>\n",
       "      <th>Trihalomethanes</th>\n",
       "      <th>Turbidity</th>\n",
       "      <th>Potability</th>\n",
       "    </tr>\n",
       "  </thead>\n",
       "  <tbody>\n",
       "    <tr>\n",
       "      <th>0</th>\n",
       "      <td>7.080795</td>\n",
       "      <td>204.890455</td>\n",
       "      <td>20791.318981</td>\n",
       "      <td>7.300212</td>\n",
       "      <td>368.516441</td>\n",
       "      <td>564.308654</td>\n",
       "      <td>10.379783</td>\n",
       "      <td>86.990970</td>\n",
       "      <td>2.963135</td>\n",
       "      <td>0</td>\n",
       "    </tr>\n",
       "    <tr>\n",
       "      <th>1</th>\n",
       "      <td>3.716080</td>\n",
       "      <td>129.422921</td>\n",
       "      <td>18630.057858</td>\n",
       "      <td>6.635246</td>\n",
       "      <td>333.775777</td>\n",
       "      <td>592.885359</td>\n",
       "      <td>15.180013</td>\n",
       "      <td>56.329076</td>\n",
       "      <td>4.500656</td>\n",
       "      <td>0</td>\n",
       "    </tr>\n",
       "    <tr>\n",
       "      <th>2</th>\n",
       "      <td>8.099124</td>\n",
       "      <td>224.236259</td>\n",
       "      <td>19909.541732</td>\n",
       "      <td>9.275884</td>\n",
       "      <td>333.775777</td>\n",
       "      <td>418.606213</td>\n",
       "      <td>16.868637</td>\n",
       "      <td>66.420093</td>\n",
       "      <td>3.055934</td>\n",
       "      <td>0</td>\n",
       "    </tr>\n",
       "    <tr>\n",
       "      <th>3</th>\n",
       "      <td>8.316766</td>\n",
       "      <td>214.373394</td>\n",
       "      <td>22018.417441</td>\n",
       "      <td>8.059332</td>\n",
       "      <td>356.886136</td>\n",
       "      <td>363.266516</td>\n",
       "      <td>18.436524</td>\n",
       "      <td>100.341674</td>\n",
       "      <td>4.628771</td>\n",
       "      <td>0</td>\n",
       "    </tr>\n",
       "    <tr>\n",
       "      <th>4</th>\n",
       "      <td>9.092223</td>\n",
       "      <td>181.101509</td>\n",
       "      <td>17978.986339</td>\n",
       "      <td>6.546600</td>\n",
       "      <td>310.135738</td>\n",
       "      <td>398.410813</td>\n",
       "      <td>11.558279</td>\n",
       "      <td>31.997993</td>\n",
       "      <td>4.075075</td>\n",
       "      <td>0</td>\n",
       "    </tr>\n",
       "    <tr>\n",
       "      <th>...</th>\n",
       "      <td>...</td>\n",
       "      <td>...</td>\n",
       "      <td>...</td>\n",
       "      <td>...</td>\n",
       "      <td>...</td>\n",
       "      <td>...</td>\n",
       "      <td>...</td>\n",
       "      <td>...</td>\n",
       "      <td>...</td>\n",
       "      <td>...</td>\n",
       "    </tr>\n",
       "    <tr>\n",
       "      <th>3271</th>\n",
       "      <td>4.668102</td>\n",
       "      <td>193.681735</td>\n",
       "      <td>47580.991603</td>\n",
       "      <td>7.166639</td>\n",
       "      <td>359.948574</td>\n",
       "      <td>526.424171</td>\n",
       "      <td>13.894419</td>\n",
       "      <td>66.687695</td>\n",
       "      <td>4.435821</td>\n",
       "      <td>1</td>\n",
       "    </tr>\n",
       "    <tr>\n",
       "      <th>3272</th>\n",
       "      <td>7.808856</td>\n",
       "      <td>193.553212</td>\n",
       "      <td>17329.802160</td>\n",
       "      <td>8.061362</td>\n",
       "      <td>333.775777</td>\n",
       "      <td>392.449580</td>\n",
       "      <td>19.903225</td>\n",
       "      <td>66.396293</td>\n",
       "      <td>2.798243</td>\n",
       "      <td>1</td>\n",
       "    </tr>\n",
       "    <tr>\n",
       "      <th>3273</th>\n",
       "      <td>9.419510</td>\n",
       "      <td>175.762646</td>\n",
       "      <td>33155.578218</td>\n",
       "      <td>7.350233</td>\n",
       "      <td>333.775777</td>\n",
       "      <td>432.044783</td>\n",
       "      <td>11.039070</td>\n",
       "      <td>69.845400</td>\n",
       "      <td>3.298875</td>\n",
       "      <td>1</td>\n",
       "    </tr>\n",
       "    <tr>\n",
       "      <th>3274</th>\n",
       "      <td>5.126763</td>\n",
       "      <td>230.603758</td>\n",
       "      <td>11983.869376</td>\n",
       "      <td>6.303357</td>\n",
       "      <td>333.775777</td>\n",
       "      <td>402.883113</td>\n",
       "      <td>11.168946</td>\n",
       "      <td>77.488213</td>\n",
       "      <td>4.708658</td>\n",
       "      <td>1</td>\n",
       "    </tr>\n",
       "    <tr>\n",
       "      <th>3275</th>\n",
       "      <td>7.874671</td>\n",
       "      <td>195.102299</td>\n",
       "      <td>17404.177061</td>\n",
       "      <td>7.509306</td>\n",
       "      <td>333.775777</td>\n",
       "      <td>327.459760</td>\n",
       "      <td>16.140368</td>\n",
       "      <td>78.698446</td>\n",
       "      <td>2.309149</td>\n",
       "      <td>1</td>\n",
       "    </tr>\n",
       "  </tbody>\n",
       "</table>\n",
       "<p>3276 rows × 10 columns</p>\n",
       "</div>"
      ],
      "text/plain": [
       "            ph    Hardness        Solids  Chloramines     Sulfate  \\\n",
       "0     7.080795  204.890455  20791.318981     7.300212  368.516441   \n",
       "1     3.716080  129.422921  18630.057858     6.635246  333.775777   \n",
       "2     8.099124  224.236259  19909.541732     9.275884  333.775777   \n",
       "3     8.316766  214.373394  22018.417441     8.059332  356.886136   \n",
       "4     9.092223  181.101509  17978.986339     6.546600  310.135738   \n",
       "...        ...         ...           ...          ...         ...   \n",
       "3271  4.668102  193.681735  47580.991603     7.166639  359.948574   \n",
       "3272  7.808856  193.553212  17329.802160     8.061362  333.775777   \n",
       "3273  9.419510  175.762646  33155.578218     7.350233  333.775777   \n",
       "3274  5.126763  230.603758  11983.869376     6.303357  333.775777   \n",
       "3275  7.874671  195.102299  17404.177061     7.509306  333.775777   \n",
       "\n",
       "      Conductivity  Organic_carbon  Trihalomethanes  Turbidity  Potability  \n",
       "0       564.308654       10.379783        86.990970   2.963135           0  \n",
       "1       592.885359       15.180013        56.329076   4.500656           0  \n",
       "2       418.606213       16.868637        66.420093   3.055934           0  \n",
       "3       363.266516       18.436524       100.341674   4.628771           0  \n",
       "4       398.410813       11.558279        31.997993   4.075075           0  \n",
       "...            ...             ...              ...        ...         ...  \n",
       "3271    526.424171       13.894419        66.687695   4.435821           1  \n",
       "3272    392.449580       19.903225        66.396293   2.798243           1  \n",
       "3273    432.044783       11.039070        69.845400   3.298875           1  \n",
       "3274    402.883113       11.168946        77.488213   4.708658           1  \n",
       "3275    327.459760       16.140368        78.698446   2.309149           1  \n",
       "\n",
       "[3276 rows x 10 columns]"
      ]
     },
     "execution_count": 22,
     "metadata": {},
     "output_type": "execute_result"
    }
   ],
   "source": [
    "import pandas as pd\n",
    "import numpy as np\n",
    "df=pd.read_csv('Missing_fixed.csv')\n",
    "df"
   ]
  },
  {
   "cell_type": "code",
   "execution_count": 2,
   "id": "65523341",
   "metadata": {},
   "outputs": [],
   "source": [
    "X=df[['ph','Hardness','Solids','Chloramines','Sulfate','Conductivity','Organic_carbon','Trihalomethanes','Turbidity']]\n",
    "Y=df['Potability']\n"
   ]
  },
  {
   "cell_type": "code",
   "execution_count": 3,
   "id": "b406e6b4",
   "metadata": {},
   "outputs": [],
   "source": [
    "#pip install tensorflow"
   ]
  },
  {
   "cell_type": "code",
   "execution_count": 4,
   "id": "ea23a28e",
   "metadata": {},
   "outputs": [],
   "source": [
    "from sklearn.exceptions import ConvergenceWarning\n",
    "\n",
    "from warnings import simplefilter\n",
    "\n",
    "simplefilter(action='ignore', category=ConvergenceWarning)"
   ]
  },
  {
   "cell_type": "code",
   "execution_count": 5,
   "id": "409bb867",
   "metadata": {},
   "outputs": [],
   "source": [
    "from pandas.plotting import scatter_matrix\n",
    "from matplotlib import pyplot as plt\n",
    "\n",
    "import tensorflow as tf\n",
    "from tensorflow import keras\n",
    "from keras.models import Sequential\n",
    "from keras.layers import Dense\n",
    "\n",
    "from sklearn.model_selection import train_test_split\n",
    "from sklearn.model_selection import KFold\n",
    "from sklearn.model_selection import cross_val_score\n",
    "from sklearn.model_selection import cross_val_predict\n",
    "\n",
    "\n",
    "from sklearn.preprocessing import MinMaxScaler\n",
    "\n",
    "from sklearn.metrics import classification_report\n",
    "from sklearn.metrics import accuracy_score\n",
    "from sklearn.metrics import precision_score\n",
    "from sklearn.metrics import recall_score\n",
    "from sklearn.metrics import f1_score\n",
    "from sklearn.metrics import confusion_matrix\n",
    "\n",
    "from sklearn.svm import SVC\n",
    "\n",
    "from sklearn.ensemble import RandomForestClassifier\n",
    "from sklearn.neural_network import MLPClassifier\n",
    "from sklearn.tree import DecisionTreeClassifier\n",
    "from sklearn.naive_bayes import MultinomialNB"
   ]
  },
  {
   "cell_type": "markdown",
   "id": "fb513f00",
   "metadata": {},
   "source": [
    "<h2>Standardization</h2>"
   ]
  },
  {
   "cell_type": "code",
   "execution_count": 6,
   "id": "d8e4437f",
   "metadata": {},
   "outputs": [],
   "source": [
    "#from sklearn.preprocessing import StandardScaler\n",
    "#scaler=StandardScaler()\n",
    "\n",
    "#fit only on training data\n",
    "#scaler.fit(X_train)\n",
    "#X_train=scaler.fit_transform(X_train)\n",
    "\n",
    "#apply same transformation to test data\n",
    "#X_test=sc_X.transform(X_test)\n",
    "\n",
    "#result will be from 0 to 1 or from -1 to +1\n",
    "#X_train\n"
   ]
  },
  {
   "cell_type": "markdown",
   "id": "f8b7ce07",
   "metadata": {},
   "source": [
    "<h2>Normalization</h2>"
   ]
  },
  {
   "cell_type": "code",
   "execution_count": 7,
   "id": "209d4afd",
   "metadata": {},
   "outputs": [],
   "source": [
    "X_train, X_test, y_train, y_test = train_test_split(X, Y,test_size=0.2, random_state=7)\n",
    "\n",
    "from sklearn.preprocessing import MinMaxScaler\n",
    "sc_X=MinMaxScaler()\n",
    "X_train=sc_X.fit_transform(X_train)\n",
    "X_test=sc_X.transform(X_test)\n",
    "#X_train #result is between 0 and 1\n"
   ]
  },
  {
   "cell_type": "markdown",
   "id": "abd217e0",
   "metadata": {},
   "source": [
    "# "
   ]
  },
  {
   "cell_type": "markdown",
   "id": "ec49579e",
   "metadata": {},
   "source": [
    "<h1><font size=25, face='Times New Roman'>1. Support Vector Machine</font></h1>"
   ]
  },
  {
   "cell_type": "code",
   "execution_count": 8,
   "id": "b6e419dc",
   "metadata": {},
   "outputs": [
    {
     "name": "stdout",
     "output_type": "stream",
     "text": [
      "\n",
      "****************************************************************\n",
      "\n",
      "Accuracy                     :  61.12804878048781 %\n",
      "Precision / 1-Sensitivity    :  52.94117647058824 %\n",
      "Recall / Sensitivity         :  43.656716417910445 %\n",
      "F1 Score                     :  47.852760736196316 %\n",
      "________________________________________________________________\n",
      "\n",
      "Confusion Matrix\n",
      "\n",
      " [[284 104]\n",
      " [151 117]]\n",
      "\n",
      "****************************************************************\n"
     ]
    }
   ],
   "source": [
    "#gamma='auto', kernel='rbf'\n",
    "svm_classifier=SVC(C=100, random_state=0)\n",
    "svm_classifier.fit(X_train,y_train)\n",
    "svm_pred=svm_classifier.predict(X_test)\n",
    "print('\\n****************************************************************\\n')\n",
    "print('Accuracy                     : ',accuracy_score(y_test,svm_pred)*100,'%')\n",
    "print('Precision / 1-Sensitivity    : ',precision_score(y_test,svm_pred)*100,'%')\n",
    "print('Recall / Sensitivity         : ',recall_score(y_test,svm_pred)*100,'%')\n",
    "print('F1 Score                     : ',f1_score(y_test,svm_pred)*100,'%')\n",
    "print('________________________________________________________________\\n')\n",
    "print('Confusion Matrix\\n')\n",
    "print('',confusion_matrix(y_test,svm_pred))\n",
    "print('\\n****************************************************************')"
   ]
  },
  {
   "cell_type": "markdown",
   "id": "9effd77c",
   "metadata": {},
   "source": [
    "<font size=20, face='Times New Roman'>K-Fold-SVM</font>"
   ]
  },
  {
   "cell_type": "code",
   "execution_count": 9,
   "id": "d798d8ee",
   "metadata": {},
   "outputs": [
    {
     "name": "stdout",
     "output_type": "stream",
     "text": [
      "Average :  54.130536130536136 %\n"
     ]
    }
   ],
   "source": [
    "svm_pred=cross_val_predict(svm_classifier,X_test, y_test)\n",
    "\n",
    "#change the value of cv to see the change\n",
    "scores_test=cross_val_score(svm_classifier,X_test, y_test, cv=10)\n",
    "print(\"Average : \",np.mean(scores_test)*100,'%')"
   ]
  },
  {
   "cell_type": "markdown",
   "id": "0c91c375",
   "metadata": {},
   "source": [
    "# "
   ]
  },
  {
   "cell_type": "markdown",
   "id": "317aad9d",
   "metadata": {},
   "source": [
    "<h1><font size=25, face='Times New Roman'>2. Decision Tree</font></h1>"
   ]
  },
  {
   "cell_type": "code",
   "execution_count": 10,
   "id": "fb28e1f0",
   "metadata": {},
   "outputs": [
    {
     "name": "stdout",
     "output_type": "stream",
     "text": [
      "\n",
      "****************************************************************\n",
      "\n",
      "Accuracy                     :  56.40243902439024 %\n",
      "Precision / 1-Sensitivity    :  46.53846153846154 %\n",
      "Recall / Sensitivity         :  45.149253731343286 %\n",
      "F1 Score                     :  45.833333333333336 %\n",
      "________________________________________________________________\n",
      "\n",
      "Confusion Matrix\n",
      "\n",
      " [[249 139]\n",
      " [147 121]]\n",
      "\n",
      "****************************************************************\n"
     ]
    }
   ],
   "source": [
    "#X_train, X_test, y_train, y_test = train_test_split(X, Y,test_size=0.2, random_state=5)\n",
    "#max_leaf_nodes=8,criterion='entropy', max_depth=10, max_features=9, min_samples_split= 2\n",
    "dt_classifier=DecisionTreeClassifier(random_state=0)\n",
    "dt_classifier.fit(X_train,y_train)\n",
    "dt_pred=dt_classifier.predict(X_test)\n",
    "print('\\n****************************************************************\\n')\n",
    "print('Accuracy                     : ',accuracy_score(y_test,dt_pred)*100,'%')\n",
    "print('Precision / 1-Sensitivity    : ',precision_score(y_test,dt_pred)*100,'%')\n",
    "print('Recall / Sensitivity         : ',recall_score(y_test,dt_pred)*100,'%')\n",
    "print('F1 Score                     : ',f1_score(y_test,dt_pred)*100,'%')\n",
    "print('________________________________________________________________\\n')\n",
    "print('Confusion Matrix\\n')\n",
    "print('',confusion_matrix(y_test,dt_pred))\n",
    "print('\\n****************************************************************')"
   ]
  },
  {
   "cell_type": "markdown",
   "id": "628f809c",
   "metadata": {},
   "source": [
    "<font size=20, face='Times New Roman'>K-Fold-DT</font>"
   ]
  },
  {
   "cell_type": "code",
   "execution_count": 11,
   "id": "fc19c124",
   "metadata": {},
   "outputs": [
    {
     "name": "stdout",
     "output_type": "stream",
     "text": [
      "Average :  56.43822843822844 %\n"
     ]
    }
   ],
   "source": [
    "\n",
    "dt_pred=cross_val_predict(dt_classifier,X_test, y_test)\n",
    "scores_test=cross_val_score(dt_classifier,X_test, y_test, cv=10)\n",
    "print(\"Average : \",np.mean(scores_test)*100,'%')"
   ]
  },
  {
   "cell_type": "markdown",
   "id": "0a217f30",
   "metadata": {},
   "source": [
    "# "
   ]
  },
  {
   "cell_type": "markdown",
   "id": "9b013035",
   "metadata": {},
   "source": [
    "<h1><font size=25, face='Times New Roman'>3. Sequential Neural Network</font></h1>"
   ]
  },
  {
   "cell_type": "code",
   "execution_count": 12,
   "id": "814cda71",
   "metadata": {},
   "outputs": [
    {
     "name": "stdout",
     "output_type": "stream",
     "text": [
      "21/21 [==============================] - 0s 1ms/step - loss: 0.2251 - Accuracy: 0.6448 - MAE: 0.4162\n"
     ]
    },
    {
     "data": {
      "text/plain": [
       "[<matplotlib.lines.Line2D at 0x1b4f477b8b0>]"
      ]
     },
     "execution_count": 12,
     "metadata": {},
     "output_type": "execute_result"
    },
    {
     "data": {
      "image/png": "[encoded data removed]",
      "text/plain": [
       "<Figure size 432x288 with 1 Axes>"
      ]
     },
     "metadata": {
      "needs_background": "light"
     },
     "output_type": "display_data"
    }
   ],
   "source": [
    "mod_sq=Sequential()\n",
    "mod_sq.add(Dense(200,input_dim=9,activation='relu'))\n",
    "mod_sq.add(Dense(200,input_dim=200,activation='relu'))\n",
    "mod_sq.add(Dense(1,activation='sigmoid'))\n",
    "\n",
    "mod_sq.compile(loss='mse', optimizer='adam', metrics=['Accuracy','MAE'])\n",
    "history=mod_sq.fit(X_train, y_train, epochs=50, verbose=0)\n",
    "mod_sq.evaluate(X_test, y_test)\n",
    "\n",
    "plt.xlabel('Epochs')\n",
    "plt.ylabel('Mean_Absolute_Error')\n",
    "plt.title('Sequential Neural Network')\n",
    "plt.plot(history.history['MAE'])"
   ]
  },
  {
   "cell_type": "code",
   "execution_count": 13,
   "id": "42e6e9ad",
   "metadata": {},
   "outputs": [
    {
     "name": "stdout",
     "output_type": "stream",
     "text": [
      "Precision       :  64.70588235294117 %\n",
      "Recall          :  28.73134328358209 %\n",
      "F1 Score        :  39.79328165374677 %\n"
     ]
    }
   ],
   "source": [
    "predictions=mod_sq.predict(X_test)\n",
    "sq_pred = (predictions > 0.5)\n",
    "confusion_matrix(y_test, sq_pred)\n",
    "print('Precision       : ',precision_score(y_test, sq_pred)*100,'%')\n",
    "print('Recall          : ',recall_score(y_test, sq_pred)*100,'%')\n",
    "print('F1 Score        : ',f1_score(y_test, sq_pred)*100,'%')"
   ]
  },
  {
   "cell_type": "code",
   "execution_count": 21,
   "id": "5f256be4",
   "metadata": {},
   "outputs": [
    {
     "name": "stdout",
     "output_type": "stream",
     "text": [
      "Cofusion Matrix\n",
      " [[346  42]\n",
      " [191  77]]\n"
     ]
    }
   ],
   "source": [
    "cm=confusion_matrix(y_test, sq_pred)\n",
    "print('Cofusion Matrix\\n',cm)"
   ]
  },
  {
   "cell_type": "code",
   "execution_count": 14,
   "id": "84b997d5",
   "metadata": {},
   "outputs": [],
   "source": [
    "#keras.backend.clear_session()"
   ]
  },
  {
   "cell_type": "markdown",
   "id": "8e27fd77",
   "metadata": {},
   "source": [
    "# "
   ]
  },
  {
   "cell_type": "markdown",
   "id": "dd8ab5a6",
   "metadata": {},
   "source": [
    "<font size=20, face='Times New Roman'>4. MLPC</font>"
   ]
  },
  {
   "cell_type": "code",
   "execution_count": 15,
   "id": "7d5516f3",
   "metadata": {},
   "outputs": [
    {
     "name": "stdout",
     "output_type": "stream",
     "text": [
      "Accuracy                     :  46.79878048780488 %\n",
      "Precision / 1-Sensitivity    :  37.30407523510972 %\n",
      "Recall / Sensitivity         :  44.40298507462687 %\n",
      "F1 Score                     :  40.54514480408859 %\n",
      "________________________________________________________________\n",
      "\n",
      "Confusion Matrix\n",
      "\n",
      " [[188 200]\n",
      " [149 119]]\n",
      "\n",
      "****************************************************************\n"
     ]
    }
   ],
   "source": [
    "#NN MLPC\n",
    "X_train, X_test, y_train, y_test = train_test_split(X, Y,test_size=0.2, random_state=7)\n",
    "\n",
    "mod_nn=MLPClassifier(solver='adam', alpha=1e-5,hidden_layer_sizes=(5), random_state=0)\n",
    "mod_nn.fit(X_train, y_train)\n",
    "nn_pred1=mod_nn.predict(X_test)\n",
    "print('Accuracy                     : ',accuracy_score(y_test,nn_pred1)*100,'%')\n",
    "print('Precision / 1-Sensitivity    : ',precision_score(y_test,nn_pred1)*100,'%')\n",
    "print('Recall / Sensitivity         : ',recall_score(y_test,nn_pred1)*100,'%')\n",
    "print('F1 Score                     : ',f1_score(y_test,nn_pred1)*100,'%')\n",
    "print('________________________________________________________________\\n')\n",
    "print('Confusion Matrix\\n')\n",
    "print('',confusion_matrix(y_test,nn_pred1))\n",
    "print('\\n****************************************************************')"
   ]
  },
  {
   "cell_type": "markdown",
   "id": "59c4fd99",
   "metadata": {},
   "source": [
    "<font size=20, face='Times New Roman'>K-Fold-MLPC</font>"
   ]
  },
  {
   "cell_type": "code",
   "execution_count": 16,
   "id": "e1f71433",
   "metadata": {},
   "outputs": [
    {
     "name": "stdout",
     "output_type": "stream",
     "text": [
      "Average :  58.99533799533799 %\n"
     ]
    }
   ],
   "source": [
    "nn_pred=cross_val_predict(mod_nn,X_test,y_test)\n",
    "scores_test=cross_val_score(mod_nn,X_test, y_test, cv=10)\n",
    "print(\"Average : \",np.mean(scores_test)*100,'%')\n"
   ]
  },
  {
   "cell_type": "markdown",
   "id": "8892a1dc",
   "metadata": {},
   "source": [
    "<h1><font size=25, face='Times New Roman'>3. Naive Bayes</font></h1>"
   ]
  },
  {
   "cell_type": "code",
   "execution_count": 17,
   "id": "8a1e2aef",
   "metadata": {},
   "outputs": [
    {
     "name": "stdout",
     "output_type": "stream",
     "text": [
      "\n",
      "****************************************************************\n",
      "\n",
      "Accuracy                     :  53.20121951219512 %\n",
      "Precision / 1-Sensitivity    :  43.521594684385384 %\n",
      "Recall / Sensitivity         :  48.88059701492538 %\n",
      "F1 Score                     :  46.04569420035149 %\n",
      "________________________________________________________________\n",
      "\n",
      "Confusion Matrix\n",
      "\n",
      " [[218 170]\n",
      " [137 131]]\n",
      "\n",
      "****************************************************************\n"
     ]
    }
   ],
   "source": [
    "X_train, X_test, y_train, y_test = train_test_split(X, Y,test_size=0.2, random_state=7)\n",
    "\n",
    "nb_classifier=MultinomialNB()\n",
    "nb_classifier.fit(X_train,y_train)\n",
    "nb_pred=nb_classifier.predict(X_test)\n",
    "print('\\n****************************************************************\\n')\n",
    "print('Accuracy                     : ',accuracy_score(y_test,nb_pred)*100,'%')\n",
    "print('Precision / 1-Sensitivity    : ',precision_score(y_test,nb_pred)*100,'%')\n",
    "print('Recall / Sensitivity         : ',recall_score(y_test,nb_pred)*100,'%')\n",
    "print('F1 Score                     : ',f1_score(y_test,nb_pred)*100,'%')\n",
    "print('________________________________________________________________\\n')\n",
    "print('Confusion Matrix\\n')\n",
    "print('',confusion_matrix(y_test,nb_pred))\n",
    "print('\\n****************************************************************')"
   ]
  },
  {
   "cell_type": "markdown",
   "id": "bc124ec6",
   "metadata": {},
   "source": [
    "<font size=20, face='Times New Roman'>K-Fold-NB</font>"
   ]
  },
  {
   "cell_type": "code",
   "execution_count": 18,
   "id": "d6a59a1d",
   "metadata": {},
   "outputs": [
    {
     "name": "stdout",
     "output_type": "stream",
     "text": [
      "Average :  53.993006993007 %\n"
     ]
    }
   ],
   "source": [
    "\n",
    "nb_pred=cross_val_predict(nb_classifier,X_test, y_test)\n",
    "scores_test=cross_val_score(nb_classifier,X_test, y_test, cv=10)\n",
    "print(\"Average : \",np.mean(scores_test)*100,'%')"
   ]
  },
  {
   "cell_type": "code",
   "execution_count": null,
   "id": "9f33c794",
   "metadata": {},
   "outputs": [],
   "source": []
  }
 ],
 "metadata": {
  "kernelspec": {
   "display_name": "Python 3 (ipykernel)",
   "language": "python",
   "name": "python3"
  },
  "language_info": {
   "codemirror_mode": {
    "name": "ipython",
    "version": 3
   },
   "file_extension": ".py",
   "mimetype": "text/x-python",
   "name": "python",
   "nbconvert_exporter": "python",
   "pygments_lexer": "ipython3",
   "version": "3.10.9"
  }
 },
 "nbformat": 4,
 "nbformat_minor": 5
}
