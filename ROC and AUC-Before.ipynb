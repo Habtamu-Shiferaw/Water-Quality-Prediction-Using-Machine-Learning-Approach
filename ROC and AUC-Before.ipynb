{
 "cells": [
  {
   "cell_type": "code",
   "execution_count": 1,
   "id": "5627777f",
   "metadata": {},
   "outputs": [
    {
     "data": {
      "text/html": [
       "<div>\n",
       "<style scoped>\n",
       "    .dataframe tbody tr th:only-of-type {\n",
       "        vertical-align: middle;\n",
       "    }\n",
       "\n",
       "    .dataframe tbody tr th {\n",
       "        vertical-align: top;\n",
       "    }\n",
       "\n",
       "    .dataframe thead th {\n",
       "        text-align: right;\n",
       "    }\n",
       "</style>\n",
       "<table border=\"1\" class=\"dataframe\">\n",
       "  <thead>\n",
       "    <tr style=\"text-align: right;\">\n",
       "      <th></th>\n",
       "      <th>ph</th>\n",
       "      <th>Hardness</th>\n",
       "      <th>Solids</th>\n",
       "      <th>Chloramines</th>\n",
       "      <th>Sulfate</th>\n",
       "      <th>Conductivity</th>\n",
       "      <th>Organic_carbon</th>\n",
       "      <th>Trihalomethanes</th>\n",
       "      <th>Turbidity</th>\n",
       "      <th>Potability</th>\n",
       "    </tr>\n",
       "  </thead>\n",
       "  <tbody>\n",
       "    <tr>\n",
       "      <th>0</th>\n",
       "      <td>7.080795</td>\n",
       "      <td>204.890455</td>\n",
       "      <td>20791.318981</td>\n",
       "      <td>7.300212</td>\n",
       "      <td>368.516441</td>\n",
       "      <td>564.308654</td>\n",
       "      <td>10.379783</td>\n",
       "      <td>86.990970</td>\n",
       "      <td>2.963135</td>\n",
       "      <td>0</td>\n",
       "    </tr>\n",
       "    <tr>\n",
       "      <th>1</th>\n",
       "      <td>3.716080</td>\n",
       "      <td>129.422921</td>\n",
       "      <td>18630.057858</td>\n",
       "      <td>6.635246</td>\n",
       "      <td>333.775777</td>\n",
       "      <td>592.885359</td>\n",
       "      <td>15.180013</td>\n",
       "      <td>56.329076</td>\n",
       "      <td>4.500656</td>\n",
       "      <td>0</td>\n",
       "    </tr>\n",
       "    <tr>\n",
       "      <th>2</th>\n",
       "      <td>8.099124</td>\n",
       "      <td>224.236259</td>\n",
       "      <td>19909.541732</td>\n",
       "      <td>9.275884</td>\n",
       "      <td>333.775777</td>\n",
       "      <td>418.606213</td>\n",
       "      <td>16.868637</td>\n",
       "      <td>66.420093</td>\n",
       "      <td>3.055934</td>\n",
       "      <td>0</td>\n",
       "    </tr>\n",
       "    <tr>\n",
       "      <th>3</th>\n",
       "      <td>8.316766</td>\n",
       "      <td>214.373394</td>\n",
       "      <td>22018.417441</td>\n",
       "      <td>8.059332</td>\n",
       "      <td>356.886136</td>\n",
       "      <td>363.266516</td>\n",
       "      <td>18.436524</td>\n",
       "      <td>100.341674</td>\n",
       "      <td>4.628771</td>\n",
       "      <td>0</td>\n",
       "    </tr>\n",
       "    <tr>\n",
       "      <th>4</th>\n",
       "      <td>9.092223</td>\n",
       "      <td>181.101509</td>\n",
       "      <td>17978.986339</td>\n",
       "      <td>6.546600</td>\n",
       "      <td>310.135738</td>\n",
       "      <td>398.410813</td>\n",
       "      <td>11.558279</td>\n",
       "      <td>31.997993</td>\n",
       "      <td>4.075075</td>\n",
       "      <td>0</td>\n",
       "    </tr>\n",
       "  </tbody>\n",
       "</table>\n",
       "</div>"
      ],
      "text/plain": [
       "         ph    Hardness        Solids  Chloramines     Sulfate  Conductivity  \\\n",
       "0  7.080795  204.890455  20791.318981     7.300212  368.516441    564.308654   \n",
       "1  3.716080  129.422921  18630.057858     6.635246  333.775777    592.885359   \n",
       "2  8.099124  224.236259  19909.541732     9.275884  333.775777    418.606213   \n",
       "3  8.316766  214.373394  22018.417441     8.059332  356.886136    363.266516   \n",
       "4  9.092223  181.101509  17978.986339     6.546600  310.135738    398.410813   \n",
       "\n",
       "   Organic_carbon  Trihalomethanes  Turbidity  Potability  \n",
       "0       10.379783        86.990970   2.963135           0  \n",
       "1       15.180013        56.329076   4.500656           0  \n",
       "2       16.868637        66.420093   3.055934           0  \n",
       "3       18.436524       100.341674   4.628771           0  \n",
       "4       11.558279        31.997993   4.075075           0  "
      ]
     },
     "execution_count": 1,
     "metadata": {},
     "output_type": "execute_result"
    }
   ],
   "source": [
    "import pandas as pd\n",
    "import matplotlib.pyplot as plt\n",
    "df=pd.read_csv('Missing_fixed.csv')\n",
    "df.head()"
   ]
  },
  {
   "cell_type": "code",
   "execution_count": 2,
   "id": "751db9ec",
   "metadata": {},
   "outputs": [],
   "source": [
    "from sklearn.model_selection import train_test_split"
   ]
  },
  {
   "cell_type": "code",
   "execution_count": 3,
   "id": "d8cb8f3e",
   "metadata": {},
   "outputs": [],
   "source": [
    "X=df[['ph','Hardness','Solids','Chloramines','Sulfate','Conductivity','Organic_carbon','Trihalomethanes','Turbidity']]\n",
    "Y=df['Potability']\n",
    "X_train, X_test, y_train, y_test = train_test_split(X, Y,test_size=0.3, random_state=7)"
   ]
  },
  {
   "cell_type": "markdown",
   "id": "aab8d4fd",
   "metadata": {},
   "source": [
    "<h2>Standardization</h2>"
   ]
  },
  {
   "cell_type": "code",
   "execution_count": 4,
   "id": "9d7fdd64",
   "metadata": {},
   "outputs": [],
   "source": [
    "#from sklearn.preprocessing import StandardScaler\n",
    "#scaler=StandardScaler()\n",
    "\n",
    "#fit only on training data\n",
    "#scaler.fit(X_train)\n",
    "#X_train=scaler.fit_transform(X_train)\n",
    "\n",
    "#apply same transformation to test data\n",
    "#X_test=sc_X.transform(X_test)\n",
    "\n",
    "#result will be from 0 to 1 or from -1 to +1\n",
    "#X_train\n"
   ]
  },
  {
   "cell_type": "markdown",
   "id": "7ee6034a",
   "metadata": {},
   "source": [
    "<h2>Normalization</h2>"
   ]
  },
  {
   "cell_type": "code",
   "execution_count": 5,
   "id": "3f592125",
   "metadata": {},
   "outputs": [],
   "source": [
    "from sklearn.preprocessing import MinMaxScaler\n",
    "sc_X=MinMaxScaler()\n",
    "X_train=sc_X.fit_transform(X_train)\n",
    "X_test=sc_X.transform(X_test)\n",
    "#X_train #result is between 0 and 1"
   ]
  },
  {
   "cell_type": "code",
   "execution_count": null,
   "id": "873e0e13",
   "metadata": {},
   "outputs": [],
   "source": []
  },
  {
   "cell_type": "code",
   "execution_count": 6,
   "id": "4fae777d",
   "metadata": {},
   "outputs": [],
   "source": [
    "from sklearn.svm import SVC\n",
    "from sklearn.tree import DecisionTreeClassifier\n",
    "from sklearn.naive_bayes import MultinomialNB\n",
    "from sklearn.linear_model import LinearRegression\n",
    "from sklearn.neural_network import MLPClassifier\n",
    "\n",
    "from tensorflow import keras\n",
    "from keras.models import Sequential\n",
    "from keras.layers import Dense\n"
   ]
  },
  {
   "cell_type": "markdown",
   "id": "3e09ca8b",
   "metadata": {},
   "source": [
    "# "
   ]
  },
  {
   "cell_type": "code",
   "execution_count": 7,
   "id": "3b724d0f",
   "metadata": {},
   "outputs": [],
   "source": [
    "\n",
    "#SVM\n",
    "model_svc=SVC(kernel='rbf',random_state=4)\n",
    "model_svc.fit(X_train,y_train)\n",
    "y_pred_svm=model_svc.decision_function(X_test)"
   ]
  },
  {
   "cell_type": "code",
   "execution_count": 8,
   "id": "31439123",
   "metadata": {},
   "outputs": [],
   "source": [
    "#NB\n",
    "model_nb=MultinomialNB()\n",
    "model_nb.fit(X_train,y_train)\n",
    "y_pred_nb=model_nb.predict(X_test)"
   ]
  },
  {
   "cell_type": "code",
   "execution_count": 9,
   "id": "73f3f9c7",
   "metadata": {},
   "outputs": [],
   "source": [
    "#DT\n",
    "model_dt=DecisionTreeClassifier(max_leaf_nodes=8,criterion='entropy', max_depth=10, \n",
    "                                max_features=9,min_samples_split= 2,random_state=0)\n",
    "model_dt.fit(X_train,y_train)\n",
    "y_pred_dt=model_dt.predict(X_test)"
   ]
  },
  {
   "cell_type": "code",
   "execution_count": 10,
   "id": "7028b31b",
   "metadata": {},
   "outputs": [
    {
     "name": "stdout",
     "output_type": "stream",
     "text": [
      "31/31 [==============================] - 0s 1ms/step - loss: 0.2438 - Accuracy: 0.5931 - mean_absolute_error: 0.4712\n"
     ]
    },
    {
     "data": {
      "text/plain": [
       "[0.243755504488945, 0.5930824279785156, 0.471182644367218]"
      ]
     },
     "execution_count": 10,
     "metadata": {},
     "output_type": "execute_result"
    }
   ],
   "source": [
    "#NN Sequencial\n",
    "model=Sequential()\n",
    "model.add(Dense(200,input_dim=9,activation='relu'))\n",
    "model.add(Dense(200,input_dim=200,activation='relu'))\n",
    "model.add(Dense(200,input_dim=200,activation='relu'))\n",
    "model.add(Dense(1,activation='linear'))\n",
    "\n",
    "\n",
    "model.compile(loss='mean_squared_error', optimizer=keras.optimizers.Adam(learning_rate=0.0001), \n",
    "              metrics=['Accuracy','mean_absolute_error'])\n",
    "model_sq=model.fit(X_train, y_train, epochs=5, batch_size=32, validation_split=0.15, validation_data=0.3, verbose=0)\n",
    "y_pred_sq=model.predict(X_test)\n",
    "model.evaluate(X_test, y_test)"
   ]
  },
  {
   "cell_type": "code",
   "execution_count": 11,
   "id": "9fb536e1",
   "metadata": {},
   "outputs": [
    {
     "name": "stderr",
     "output_type": "stream",
     "text": [
      "C:\\Users\\Wobetu PC\\anaconda3\\lib\\site-packages\\sklearn\\neural_network\\_multilayer_perceptron.py:692: ConvergenceWarning: Stochastic Optimizer: Maximum iterations (200) reached and the optimization hasn't converged yet.\n",
      "  warnings.warn(\n"
     ]
    }
   ],
   "source": [
    "#NN MLPC\n",
    "model_nn=MLPClassifier(solver='adam', alpha=1e-5,hidden_layer_sizes=(15,), random_state=1)\n",
    "model_nn.fit(X_train, y_train)\n",
    "y_pred_nn=model_nn.predict(X_test)"
   ]
  },
  {
   "cell_type": "markdown",
   "id": "a25a4738",
   "metadata": {},
   "source": [
    "<h1>ROC and AUC</h1>"
   ]
  },
  {
   "cell_type": "code",
   "execution_count": 12,
   "id": "d6c0678c",
   "metadata": {},
   "outputs": [],
   "source": [
    "from sklearn.metrics import roc_curve, auc"
   ]
  },
  {
   "cell_type": "code",
   "execution_count": 13,
   "id": "bb2eeb68",
   "metadata": {},
   "outputs": [],
   "source": [
    "#SVM\n",
    "svm_fpr, svm_tpr, threshold = roc_curve(y_test,y_pred_svm)\n",
    "auc_svm=auc(svm_fpr,svm_tpr)"
   ]
  },
  {
   "cell_type": "code",
   "execution_count": 14,
   "id": "8d4d32be",
   "metadata": {},
   "outputs": [],
   "source": [
    "#DT\n",
    "dt_fpr, dt_tpr, threshold = roc_curve(y_test,y_pred_dt)\n",
    "auc_dt=auc(dt_fpr,dt_tpr)"
   ]
  },
  {
   "cell_type": "code",
   "execution_count": 15,
   "id": "6f05eee3",
   "metadata": {},
   "outputs": [],
   "source": [
    "#NB\n",
    "nb_fpr, nb_tpr, threshold = roc_curve(y_test,y_pred_nb)\n",
    "auc_nb=auc(nb_fpr,nb_tpr)"
   ]
  },
  {
   "cell_type": "code",
   "execution_count": 16,
   "id": "06bab50c",
   "metadata": {},
   "outputs": [],
   "source": [
    "#NN MLPC\n",
    "nn_fpr, nn_tpr, threshold = roc_curve(y_test,y_pred_nn)\n",
    "auc_nn=auc(nn_fpr,nn_tpr)"
   ]
  },
  {
   "cell_type": "code",
   "execution_count": 17,
   "id": "eff675eb",
   "metadata": {},
   "outputs": [],
   "source": [
    "#NN Sq\n",
    "sq_fpr, sq_tpr, threshold=roc_curve(y_test, y_pred_sq)\n",
    "auc_sq=auc(sq_fpr,sq_tpr)"
   ]
  },
  {
   "cell_type": "code",
   "execution_count": null,
   "id": "92731399",
   "metadata": {},
   "outputs": [],
   "source": []
  },
  {
   "cell_type": "code",
   "execution_count": 26,
   "id": "1317dd0d",
   "metadata": {},
   "outputs": [
    {
     "data": {
      "image/png": "[encoded data removed]",
      "text/plain": [
       "<Figure size 500x500 with 1 Axes>"
      ]
     },
     "metadata": {
      "needs_background": "light"
     },
     "output_type": "display_data"
    }
   ],
   "source": [
    "plt.figure(figsize=(5,5), dpi=100)\n",
    "\n",
    "plt.plot(svm_fpr,svm_tpr,linestyle='-', label='SVM(auc=%0.4f)' %auc_svm)\n",
    "plt.plot(dt_fpr,dt_tpr,marker='', label='Decision Tree(auc=%0.4f)' %auc_dt)\n",
    "plt.plot(sq_fpr,sq_tpr,marker='',label='Sequential NN(auc=%0.4f)'%auc_sq)\n",
    "plt.plot(nn_fpr,nn_tpr,marker='', label='MLPClassifier(auc=%0.4f)' %auc_nn)\n",
    "plt.plot(nb_fpr,nb_tpr,marker='', label='Naive Bayes(auc=%0.4f)' %auc_nb)\n",
    "\n",
    "plt.xlabel('False Positive Rate')\n",
    "plt.ylabel('True Positive Rate')\n",
    "plt.title('ROC Curve and AUC Before Balancing')\n",
    "\n",
    "plt.legend()\n",
    "plt.show()"
   ]
  },
  {
   "cell_type": "code",
   "execution_count": null,
   "id": "5e9c16f7",
   "metadata": {},
   "outputs": [],
   "source": []
  },
  {
   "cell_type": "code",
   "execution_count": null,
   "id": "9bfb728b",
   "metadata": {},
   "outputs": [],
   "source": []
  }
 ],
 "metadata": {
  "kernelspec": {
   "display_name": "Python 3 (ipykernel)",
   "language": "python",
   "name": "python3"
  },
  "language_info": {
   "codemirror_mode": {
    "name": "ipython",
    "version": 3
   },
   "file_extension": ".py",
   "mimetype": "text/x-python",
   "name": "python",
   "nbconvert_exporter": "python",
   "pygments_lexer": "ipython3",
   "version": "3.9.7"
  }
 },
 "nbformat": 4,
 "nbformat_minor": 5
}
